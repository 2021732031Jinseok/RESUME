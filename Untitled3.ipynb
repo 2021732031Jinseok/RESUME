{
  "nbformat": 4,
  "nbformat_minor": 0,
  "metadata": {
    "colab": {
      "provenance": [],
      "authorship_tag": "ABX9TyOmDouxt1AQTdpsDED1Bf8z",
      "include_colab_link": true
    },
    "kernelspec": {
      "name": "python3",
      "display_name": "Python 3"
    },
    "language_info": {
      "name": "python"
    }
  },
  "cells": [
    {
      "cell_type": "markdown",
      "metadata": {
        "id": "view-in-github",
        "colab_type": "text"
      },
      "source": [
        "<a href=\"https://colab.research.google.com/github/2021732031Jinseok/RESUME/blob/master/Untitled3.ipynb\" target=\"_parent\"><img src=\"https://colab.research.google.com/assets/colab-badge.svg\" alt=\"Open In Colab\"/></a>"
      ]
    },
    {
      "cell_type": "markdown",
      "source": [
        "# 이력서\n",
        "---\n",
        "## 소개\n",
        "![이미지](https://pbs.twimg.com/profile_images/1738099922455654400/eUFUVnfB_400x400.jpg)\n",
        "- 이름: 정진석\n",
        "- 병역: 공군 제16 전투비행단 부품정비대대 비행제어반 병장 만기전역\n",
        "- Email: jinseok@gmail.com\n",
        "- GitHub: [github.com/2021732031Jinseok](https://github.com/2021732031Jinseok)\n",
        "\n",
        "```\n",
        "모든 시도는 데이터가 된다. 실패도 배움이다!\n",
        "```\n",
        "---\n",
        "## 경력\n",
        "- [CU](https://cu.bgfretail.com/) 아르바이트(2021.08~2021.11)\n",
        "- [롯데택배](https://www.lotteglogis.com/home/reservation/tracking/index) 아르바이트(2021.12~2022.4)\n",
        "- [배스킨라빈스](https://www.baskinrobbins.co.kr/) 아르바이트 (2024.08 ~ 2025.07)\n",
        "- [광운대학교 관리처](https://www.kw.ac.kr/ko/department/view.jsp?hpage=intro_0024) 교내근로(2025.07~현재)\n",
        "- [현대무벡스](https://www.hyundaielevator.com/ko/index)(예정)\n",
        "---\n",
        "## 대외활동\n",
        "- [스마트그리드 아이디어 공모전](https://www.ksga.org/web/Board/7482/detailView.do)(2025) 입상\n",
        "---\n",
        "## 어학 및 자격증\n",
        "- TOEIC(835점)\n",
        "- OPIC(AL등급/예정)\n",
        "- 컴퓨터활용1급(예정)\n",
        "- 매경TEST(우수)\n",
        "- 운전면허2종보통\n",
        "- 전기기사(예정)\n",
        "- 전기공사기사(예정)\n",
        "---\n",
        "## 학력\n",
        "- 광운대학교 졸업(2021.03~2027.2)\n",
        "- 문일고등학교 졸업(2018~2021)\n",
        "----\n",
        "##프로젝트 이력\n",
        "---\n",
        "##배터리 잔량 측정 회로 설계\n",
        "- 소개: 누구나 편리하게 사용하는 배터리의 잔량을 디스플레이로 표시\n",
        "- MCU를 이용한 코딩 및 회로 디자인과 납땜, 외관 디자인\n",
        "- 기간 : 2023.05 ~ 2023.06\n",
        "##회로 설계 시뮬레이션\n",
        "- 소개 : 디자인한 회로를 컴퓨터 시뮬레이션으로 테스트\n",
        "- Thinkercad, Multisim, Psim등을 활용\n",
        "- 기간 : 2023.03 ~ 2024.09\n",
        "##배터리 충전 회로 설계\n",
        "-소개 : 리튬전지 충전 및 보호회로 설계 및 데이터의 블루투스 제어\n",
        "- MCU 코딩 및 회로 디자인, 납땜\n",
        "- 기간 : 2023.09 ~ 2023.12\n",
        "##마이크 및 스피커 회로 설계\n",
        "- 소개 : 마이크를 통한 입력신호 증폭 및 대역 필터 및 이퀄라이저 설계\n",
        "- 회로 디자인, 시뮬레이션 및 납땜\n",
        "- 기간 : 2024.04 ~ 2024.06\n",
        "##3-2학기 설계\n",
        "- 소개 : 주제 미정\n",
        "- 소프트웨어 코딩 및 회로 디자인, 납땜\n",
        "- 기간 : 2024.09 ~ 2024.12\n",
        "##캡스톤 설계\n",
        "소개 : 주제 미정\n",
        "기간 : 2025.03 ~ 2025.06\n",
        "---\n",
        "##To do list\n",
        "---\n",
        "##학점관리\n",
        "최소 전체 학점 3.8 이상 목표로 열심히 학점 관리하기.\n",
        "\n",
        "## 자격증\n",
        "컴활 1급 필기는 합격한 상태이지만 아쉽게 실기에서 불합격을 받은 상태임, 학기중 또는 3학년 겨울방학 때 재도전  \n",
        "컴활 마치면 바로 전기기사 공부 시작하기.\n",
        "\n",
        "##캡스톤 설계 준비\n",
        "캡스톤 조원들과 캡스톤 주제를 정해보고 관련 논문 및 기사 조사하고 관련 전공 지식 공부하기.\n",
        "\n",
        "\n",
        "\n",
        "\n",
        "여기까지 읽어주셔서 감사합니다. <br/>\n",
        "부족한 부분이나 더 궁금하신 내용이 있다면 jinseok072@gmail.com으로 연락주세요.<br/>\n",
        "감사합니다.\n"
      ],
      "metadata": {
        "id": "1wfCBhPMlBNo"
      }
    }
  ]
}